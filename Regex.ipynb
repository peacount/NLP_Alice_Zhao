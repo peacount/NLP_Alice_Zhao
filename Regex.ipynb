{
 "metadata": {
  "language_info": {
   "codemirror_mode": {
    "name": "ipython",
    "version": 3
   },
   "file_extension": ".py",
   "mimetype": "text/x-python",
   "name": "python",
   "nbconvert_exporter": "python",
   "pygments_lexer": "ipython3",
   "version": "3.9.1"
  },
  "orig_nbformat": 2,
  "kernelspec": {
   "name": "python391jvsc74a57bd0cc5d2894cf8fed0488a1186a7d9d6ef6896131398eb544c76112bd5bb0e9962d",
   "display_name": "Python 3.9.1 64-bit"
  },
  "metadata": {
   "interpreter": {
    "hash": "cc5d2894cf8fed0488a1186a7d9d6ef6896131398eb544c76112bd5bb0e9962d"
   }
  }
 },
 "nbformat": 4,
 "nbformat_minor": 2,
 "cells": [
  {
   "cell_type": "code",
   "execution_count": 8,
   "metadata": {},
   "outputs": [],
   "source": [
    "os.chdir('C:\\\\Users\\\\jenny\\\\venvs\\\\py39\\\\Lib\\\\site-packages')\n",
    "import pandas as pd\n",
    "import re\n",
    "import openpyxl\n",
    "import numpy"
   ]
  },
  {
   "cell_type": "code",
   "execution_count": 20,
   "metadata": {},
   "outputs": [
    {
     "output_type": "stream",
     "name": "stdout",
     "text": [
      "Collecting openpyxl\n",
      "  Downloading openpyxl-3.0.7-py2.py3-none-any.whl (243 kB)\n",
      "Collecting et-xmlfile\n",
      "  Downloading et_xmlfile-1.1.0-py3-none-any.whl (4.7 kB)\n",
      "Installing collected packages: et-xmlfile, openpyxl\n",
      "Successfully installed et-xmlfile-1.1.0 openpyxl-3.0.7\n",
      "WARNING: You are using pip version 21.0.1; however, version 21.1 is available.\n",
      "You should consider upgrading via the 'c:\\users\\jenny\\appdata\\local\\programs\\python\\python39\\python.exe -m pip install --upgrade pip' command.\n"
     ]
    }
   ],
   "source": [
    "os.chdir('C:\\\\Users\\\\jenny\\\\venvs\\\\py39\\\\Lib\\\\site-packages')\n",
    "!pip install openpyxl"
   ]
  },
  {
   "cell_type": "code",
   "execution_count": 9,
   "metadata": {},
   "outputs": [
    {
     "output_type": "execute_result",
     "data": {
      "text/plain": [
       "                                         SOF_Countries  \\\n",
       "0                                      [[\"IL\"],[\"IL\"]]   \n",
       "1                  [[\"CH\",\"IL\",\"BE\"],[\"CH\",\"IL\",\"BE\"]]   \n",
       "2    [[\"AO\",\"NL\",\"CH\"],[\"AO\",\"NL\",\"CH\"],[\"AO\",\"NL\",...   \n",
       "3                                               [\"IL\"]   \n",
       "4                            [[\"CH\",\"RU\"],[\"CH\",\"RU\"]]   \n",
       "..                                                 ...   \n",
       "148                                        [\"IL\",\"AO\"]   \n",
       "149                                    [[\"IL\"],[\"IL\"]]   \n",
       "150              [[\"CH\",\"IL\"],[\"CH\",\"IL\"],[\"CH\",\"IL\"]]   \n",
       "151                         [\"IL\",\"DE\",\"NL\",\"FR\",\"US\"]   \n",
       "152                                    [[\"DE\"],[\"DE\"]]   \n",
       "\n",
       "                                   SOW_Countries  \n",
       "0                                [[\"IL\"],[\"IL\"]]  \n",
       "1            [[\"IL\",\"CH\",\"BE\"],[\"IL\",\"CH\",\"BE\"]]  \n",
       "2    [[],[\"CH\",\"AO\",\"IL\"],[\"AO\",\"IL\",\"GB\",\"CH\"]]  \n",
       "3                                         [\"IL\"]  \n",
       "4                               [[],[\"RU\",\"DE\"]]  \n",
       "..                                           ...  \n",
       "148                                  [\"IL\",\"AO\"]  \n",
       "149                                  [[],[\"IL\"]]  \n",
       "150                 [[],[\"CH\",\"IL\"],[\"CH\",\"IL\"]]  \n",
       "151                                           []  \n",
       "152                                   [[],[],[]]  \n",
       "\n",
       "[153 rows x 2 columns]"
      ],
      "text/html": "<div>\n<style scoped>\n    .dataframe tbody tr th:only-of-type {\n        vertical-align: middle;\n    }\n\n    .dataframe tbody tr th {\n        vertical-align: top;\n    }\n\n    .dataframe thead th {\n        text-align: right;\n    }\n</style>\n<table border=\"1\" class=\"dataframe\">\n  <thead>\n    <tr style=\"text-align: right;\">\n      <th></th>\n      <th>SOF_Countries</th>\n      <th>SOW_Countries</th>\n    </tr>\n  </thead>\n  <tbody>\n    <tr>\n      <th>0</th>\n      <td>[[\"IL\"],[\"IL\"]]</td>\n      <td>[[\"IL\"],[\"IL\"]]</td>\n    </tr>\n    <tr>\n      <th>1</th>\n      <td>[[\"CH\",\"IL\",\"BE\"],[\"CH\",\"IL\",\"BE\"]]</td>\n      <td>[[\"IL\",\"CH\",\"BE\"],[\"IL\",\"CH\",\"BE\"]]</td>\n    </tr>\n    <tr>\n      <th>2</th>\n      <td>[[\"AO\",\"NL\",\"CH\"],[\"AO\",\"NL\",\"CH\"],[\"AO\",\"NL\",...</td>\n      <td>[[],[\"CH\",\"AO\",\"IL\"],[\"AO\",\"IL\",\"GB\",\"CH\"]]</td>\n    </tr>\n    <tr>\n      <th>3</th>\n      <td>[\"IL\"]</td>\n      <td>[\"IL\"]</td>\n    </tr>\n    <tr>\n      <th>4</th>\n      <td>[[\"CH\",\"RU\"],[\"CH\",\"RU\"]]</td>\n      <td>[[],[\"RU\",\"DE\"]]</td>\n    </tr>\n    <tr>\n      <th>...</th>\n      <td>...</td>\n      <td>...</td>\n    </tr>\n    <tr>\n      <th>148</th>\n      <td>[\"IL\",\"AO\"]</td>\n      <td>[\"IL\",\"AO\"]</td>\n    </tr>\n    <tr>\n      <th>149</th>\n      <td>[[\"IL\"],[\"IL\"]]</td>\n      <td>[[],[\"IL\"]]</td>\n    </tr>\n    <tr>\n      <th>150</th>\n      <td>[[\"CH\",\"IL\"],[\"CH\",\"IL\"],[\"CH\",\"IL\"]]</td>\n      <td>[[],[\"CH\",\"IL\"],[\"CH\",\"IL\"]]</td>\n    </tr>\n    <tr>\n      <th>151</th>\n      <td>[\"IL\",\"DE\",\"NL\",\"FR\",\"US\"]</td>\n      <td>[]</td>\n    </tr>\n    <tr>\n      <th>152</th>\n      <td>[[\"DE\"],[\"DE\"]]</td>\n      <td>[[],[],[]]</td>\n    </tr>\n  </tbody>\n</table>\n<p>153 rows × 2 columns</p>\n</div>"
     },
     "metadata": {},
     "execution_count": 9
    }
   ],
   "source": [
    "df = pd.read_excel('C:\\\\Users\\\\jenny\\\\venvs\\\\py39\\\\Regex\\\\regex.xlsx', names=['SOF_Countries', 'SOW_Countries'])\n",
    "df"
   ]
  },
  {
   "cell_type": "code",
   "execution_count": 10,
   "metadata": {},
   "outputs": [
    {
     "output_type": "execute_result",
     "data": {
      "text/plain": [
       "                                   SOW_Countries  \\\n",
       "0                                [[\"IL\"],[\"IL\"]]   \n",
       "1            [[\"IL\",\"CH\",\"BE\"],[\"IL\",\"CH\",\"BE\"]]   \n",
       "2    [[],[\"CH\",\"AO\",\"IL\"],[\"AO\",\"IL\",\"GB\",\"CH\"]]   \n",
       "3                                         [\"IL\"]   \n",
       "4                               [[],[\"RU\",\"DE\"]]   \n",
       "..                                           ...   \n",
       "148                                  [\"IL\",\"AO\"]   \n",
       "149                                  [[],[\"IL\"]]   \n",
       "150                 [[],[\"CH\",\"IL\"],[\"CH\",\"IL\"]]   \n",
       "151                                           []   \n",
       "152                                   [[],[],[]]   \n",
       "\n",
       "                              SOW  \\\n",
       "0                        [IL, IL]   \n",
       "1        [IL, CH, BE, IL, CH, BE]   \n",
       "2    [CH, AO, IL, AO, IL, GB, CH]   \n",
       "3                            [IL]   \n",
       "4                        [RU, DE]   \n",
       "..                            ...   \n",
       "148                      [IL, AO]   \n",
       "149                          [IL]   \n",
       "150              [CH, IL, CH, IL]   \n",
       "151                            []   \n",
       "152                            []   \n",
       "\n",
       "                                         SOF_Countries  \\\n",
       "0                                      [[\"IL\"],[\"IL\"]]   \n",
       "1                  [[\"CH\",\"IL\",\"BE\"],[\"CH\",\"IL\",\"BE\"]]   \n",
       "2    [[\"AO\",\"NL\",\"CH\"],[\"AO\",\"NL\",\"CH\"],[\"AO\",\"NL\",...   \n",
       "3                                               [\"IL\"]   \n",
       "4                            [[\"CH\",\"RU\"],[\"CH\",\"RU\"]]   \n",
       "..                                                 ...   \n",
       "148                                        [\"IL\",\"AO\"]   \n",
       "149                                    [[\"IL\"],[\"IL\"]]   \n",
       "150              [[\"CH\",\"IL\"],[\"CH\",\"IL\"],[\"CH\",\"IL\"]]   \n",
       "151                         [\"IL\",\"DE\",\"NL\",\"FR\",\"US\"]   \n",
       "152                                    [[\"DE\"],[\"DE\"]]   \n",
       "\n",
       "                                      SOF  \n",
       "0                                [IL, IL]  \n",
       "1                [CH, IL, BE, CH, IL, BE]  \n",
       "2    [AO, NL, CH, AO, NL, CH, AO, NL, CH]  \n",
       "3                                    [IL]  \n",
       "4                        [CH, RU, CH, RU]  \n",
       "..                                    ...  \n",
       "148                              [IL, AO]  \n",
       "149                              [IL, IL]  \n",
       "150              [CH, IL, CH, IL, CH, IL]  \n",
       "151                  [IL, DE, NL, FR, US]  \n",
       "152                              [DE, DE]  \n",
       "\n",
       "[153 rows x 4 columns]"
      ],
      "text/html": "<div>\n<style scoped>\n    .dataframe tbody tr th:only-of-type {\n        vertical-align: middle;\n    }\n\n    .dataframe tbody tr th {\n        vertical-align: top;\n    }\n\n    .dataframe thead th {\n        text-align: right;\n    }\n</style>\n<table border=\"1\" class=\"dataframe\">\n  <thead>\n    <tr style=\"text-align: right;\">\n      <th></th>\n      <th>SOW_Countries</th>\n      <th>SOW</th>\n      <th>SOF_Countries</th>\n      <th>SOF</th>\n    </tr>\n  </thead>\n  <tbody>\n    <tr>\n      <th>0</th>\n      <td>[[\"IL\"],[\"IL\"]]</td>\n      <td>[IL, IL]</td>\n      <td>[[\"IL\"],[\"IL\"]]</td>\n      <td>[IL, IL]</td>\n    </tr>\n    <tr>\n      <th>1</th>\n      <td>[[\"IL\",\"CH\",\"BE\"],[\"IL\",\"CH\",\"BE\"]]</td>\n      <td>[IL, CH, BE, IL, CH, BE]</td>\n      <td>[[\"CH\",\"IL\",\"BE\"],[\"CH\",\"IL\",\"BE\"]]</td>\n      <td>[CH, IL, BE, CH, IL, BE]</td>\n    </tr>\n    <tr>\n      <th>2</th>\n      <td>[[],[\"CH\",\"AO\",\"IL\"],[\"AO\",\"IL\",\"GB\",\"CH\"]]</td>\n      <td>[CH, AO, IL, AO, IL, GB, CH]</td>\n      <td>[[\"AO\",\"NL\",\"CH\"],[\"AO\",\"NL\",\"CH\"],[\"AO\",\"NL\",...</td>\n      <td>[AO, NL, CH, AO, NL, CH, AO, NL, CH]</td>\n    </tr>\n    <tr>\n      <th>3</th>\n      <td>[\"IL\"]</td>\n      <td>[IL]</td>\n      <td>[\"IL\"]</td>\n      <td>[IL]</td>\n    </tr>\n    <tr>\n      <th>4</th>\n      <td>[[],[\"RU\",\"DE\"]]</td>\n      <td>[RU, DE]</td>\n      <td>[[\"CH\",\"RU\"],[\"CH\",\"RU\"]]</td>\n      <td>[CH, RU, CH, RU]</td>\n    </tr>\n    <tr>\n      <th>...</th>\n      <td>...</td>\n      <td>...</td>\n      <td>...</td>\n      <td>...</td>\n    </tr>\n    <tr>\n      <th>148</th>\n      <td>[\"IL\",\"AO\"]</td>\n      <td>[IL, AO]</td>\n      <td>[\"IL\",\"AO\"]</td>\n      <td>[IL, AO]</td>\n    </tr>\n    <tr>\n      <th>149</th>\n      <td>[[],[\"IL\"]]</td>\n      <td>[IL]</td>\n      <td>[[\"IL\"],[\"IL\"]]</td>\n      <td>[IL, IL]</td>\n    </tr>\n    <tr>\n      <th>150</th>\n      <td>[[],[\"CH\",\"IL\"],[\"CH\",\"IL\"]]</td>\n      <td>[CH, IL, CH, IL]</td>\n      <td>[[\"CH\",\"IL\"],[\"CH\",\"IL\"],[\"CH\",\"IL\"]]</td>\n      <td>[CH, IL, CH, IL, CH, IL]</td>\n    </tr>\n    <tr>\n      <th>151</th>\n      <td>[]</td>\n      <td>[]</td>\n      <td>[\"IL\",\"DE\",\"NL\",\"FR\",\"US\"]</td>\n      <td>[IL, DE, NL, FR, US]</td>\n    </tr>\n    <tr>\n      <th>152</th>\n      <td>[[],[],[]]</td>\n      <td>[]</td>\n      <td>[[\"DE\"],[\"DE\"]]</td>\n      <td>[DE, DE]</td>\n    </tr>\n  </tbody>\n</table>\n<p>153 rows × 4 columns</p>\n</div>"
     },
     "metadata": {},
     "execution_count": 10
    }
   ],
   "source": [
    "df['SOF'] = df['SOF_Countries'].str.findall(r'\"([A-Z]+)\"+')\n",
    "\n",
    "df['SOW'] = df['SOW_Countries'].str.findall(r'\"([A-Z]+)\"+')\n",
    "df\n",
    "df = df[['SOW_Countries', 'SOW', 'SOF_Countries', 'SOF']]\n",
    "df"
   ]
  },
  {
   "cell_type": "code",
   "execution_count": 38,
   "metadata": {},
   "outputs": [
    {
     "output_type": "execute_result",
     "data": {
      "text/plain": [
       "                                         SOF_Countries  \\\n",
       "0                                      [[\"IL\"],[\"IL\"]]   \n",
       "1                  [[\"CH\",\"IL\",\"BE\"],[\"CH\",\"IL\",\"BE\"]]   \n",
       "2    [[\"AO\",\"NL\",\"CH\"],[\"AO\",\"NL\",\"CH\"],[\"AO\",\"NL\",...   \n",
       "3                                               [\"IL\"]   \n",
       "4                            [[\"CH\",\"RU\"],[\"CH\",\"RU\"]]   \n",
       "..                                                 ...   \n",
       "148                                        [\"IL\",\"AO\"]   \n",
       "149                                    [[\"IL\"],[\"IL\"]]   \n",
       "150              [[\"CH\",\"IL\"],[\"CH\",\"IL\"],[\"CH\",\"IL\"]]   \n",
       "151                         [\"IL\",\"DE\",\"NL\",\"FR\",\"US\"]   \n",
       "152                                    [[\"DE\"],[\"DE\"]]   \n",
       "\n",
       "                                   SOW_Countries SOF1  \n",
       "0                                [[\"IL\"],[\"IL\"]]   IL  \n",
       "1            [[\"IL\",\"CH\",\"BE\"],[\"IL\",\"CH\",\"BE\"]]   CH  \n",
       "2    [[],[\"CH\",\"AO\",\"IL\"],[\"AO\",\"IL\",\"GB\",\"CH\"]]   AO  \n",
       "3                                         [\"IL\"]   IL  \n",
       "4                               [[],[\"RU\",\"DE\"]]   CH  \n",
       "..                                           ...  ...  \n",
       "148                                  [\"IL\",\"AO\"]   IL  \n",
       "149                                  [[],[\"IL\"]]   IL  \n",
       "150                 [[],[\"CH\",\"IL\"],[\"CH\",\"IL\"]]   CH  \n",
       "151                                           []   IL  \n",
       "152                                   [[],[],[]]   DE  \n",
       "\n",
       "[153 rows x 3 columns]"
      ],
      "text/html": "<div>\n<style scoped>\n    .dataframe tbody tr th:only-of-type {\n        vertical-align: middle;\n    }\n\n    .dataframe tbody tr th {\n        vertical-align: top;\n    }\n\n    .dataframe thead th {\n        text-align: right;\n    }\n</style>\n<table border=\"1\" class=\"dataframe\">\n  <thead>\n    <tr style=\"text-align: right;\">\n      <th></th>\n      <th>SOF_Countries</th>\n      <th>SOW_Countries</th>\n      <th>SOF1</th>\n    </tr>\n  </thead>\n  <tbody>\n    <tr>\n      <th>0</th>\n      <td>[[\"IL\"],[\"IL\"]]</td>\n      <td>[[\"IL\"],[\"IL\"]]</td>\n      <td>IL</td>\n    </tr>\n    <tr>\n      <th>1</th>\n      <td>[[\"CH\",\"IL\",\"BE\"],[\"CH\",\"IL\",\"BE\"]]</td>\n      <td>[[\"IL\",\"CH\",\"BE\"],[\"IL\",\"CH\",\"BE\"]]</td>\n      <td>CH</td>\n    </tr>\n    <tr>\n      <th>2</th>\n      <td>[[\"AO\",\"NL\",\"CH\"],[\"AO\",\"NL\",\"CH\"],[\"AO\",\"NL\",...</td>\n      <td>[[],[\"CH\",\"AO\",\"IL\"],[\"AO\",\"IL\",\"GB\",\"CH\"]]</td>\n      <td>AO</td>\n    </tr>\n    <tr>\n      <th>3</th>\n      <td>[\"IL\"]</td>\n      <td>[\"IL\"]</td>\n      <td>IL</td>\n    </tr>\n    <tr>\n      <th>4</th>\n      <td>[[\"CH\",\"RU\"],[\"CH\",\"RU\"]]</td>\n      <td>[[],[\"RU\",\"DE\"]]</td>\n      <td>CH</td>\n    </tr>\n    <tr>\n      <th>...</th>\n      <td>...</td>\n      <td>...</td>\n      <td>...</td>\n    </tr>\n    <tr>\n      <th>148</th>\n      <td>[\"IL\",\"AO\"]</td>\n      <td>[\"IL\",\"AO\"]</td>\n      <td>IL</td>\n    </tr>\n    <tr>\n      <th>149</th>\n      <td>[[\"IL\"],[\"IL\"]]</td>\n      <td>[[],[\"IL\"]]</td>\n      <td>IL</td>\n    </tr>\n    <tr>\n      <th>150</th>\n      <td>[[\"CH\",\"IL\"],[\"CH\",\"IL\"],[\"CH\",\"IL\"]]</td>\n      <td>[[],[\"CH\",\"IL\"],[\"CH\",\"IL\"]]</td>\n      <td>CH</td>\n    </tr>\n    <tr>\n      <th>151</th>\n      <td>[\"IL\",\"DE\",\"NL\",\"FR\",\"US\"]</td>\n      <td>[]</td>\n      <td>IL</td>\n    </tr>\n    <tr>\n      <th>152</th>\n      <td>[[\"DE\"],[\"DE\"]]</td>\n      <td>[[],[],[]]</td>\n      <td>DE</td>\n    </tr>\n  </tbody>\n</table>\n<p>153 rows × 3 columns</p>\n</div>"
     },
     "metadata": {},
     "execution_count": 38
    }
   ],
   "source": [
    "df['SOF1'] = df['SOF_Countries'].str.extract(r'([A-Z]+)')"
   ]
  }
 ]
}